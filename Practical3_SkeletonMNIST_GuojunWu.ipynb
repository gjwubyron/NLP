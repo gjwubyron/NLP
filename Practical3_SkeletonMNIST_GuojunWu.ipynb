{
  "cells": [
    {
      "cell_type": "markdown",
      "metadata": {
        "id": "view-in-github",
        "colab_type": "text"
      },
      "source": [
        "<a href=\"https://colab.research.google.com/github/gjwubyron/NLP/blob/main/Practical3_SkeletonMNIST_GuojunWu.ipynb\" target=\"_parent\"><img src=\"https://colab.research.google.com/assets/colab-badge.svg\" alt=\"Open In Colab\"/></a>"
      ]
    },
    {
      "cell_type": "markdown",
      "metadata": {
        "id": "ZcoB0padCMPf"
      },
      "source": [
        "# Practical 3: MNIST\n",
        "\n",
        "This is the first task of Practical 3. Your task is to build a (convolutional) neural network to classify the handwritten digits from the MNIST dataset (http://yann.lecun.com/exdb/mnist/). \n",
        "\n",
        "You should get an accuracy of **at least 97%** to pass the practical. \n",
        "\n",
        "The model files might be too large to be uploaded to GitHub. \n",
        "Please use the following link to upload your models: https://seafile.ifi.uzh.ch/u/d/695f63e725b641ed8633/\n",
        "\n",
        "Name the model file `{repository_name}-MNIST.h5`. For example, if your repository is FDS22-M0, you should name the model file `FDS22-M0-MNIST.h5`. If you are not satisfied with the model you have uploaded, you can upload a new one with the same name. We will only look at the newest model. Nevertheless, try to upload as few times as possible, since the online drive has a limited amount of space. "
      ]
    },
    {
      "cell_type": "markdown",
      "metadata": {
        "id": "N_LeVoU3CMPh"
      },
      "source": [
        "## Import the libraries"
      ]
    },
    {
      "cell_type": "code",
      "execution_count": null,
      "metadata": {
        "id": "-jqt-qQbCMPh"
      },
      "outputs": [],
      "source": [
        "import numpy as np\n",
        "import pandas as pd\n",
        "import matplotlib.pyplot as plt\n",
        "\n",
        "import tensorflow as tf\n",
        "from tensorflow import keras"
      ]
    },
    {
      "cell_type": "code",
      "source": [
        "from sklearn.model_selection import train_test_split"
      ],
      "metadata": {
        "id": "9QZWg9juKxiZ"
      },
      "execution_count": null,
      "outputs": []
    },
    {
      "cell_type": "code",
      "execution_count": null,
      "metadata": {
        "colab": {
          "base_uri": "https://localhost:8080/",
          "height": 35
        },
        "id": "nAPoq_0oCMPi",
        "outputId": "47dd9489-9331-479b-c360-1f44fbbe07e0"
      },
      "outputs": [
        {
          "output_type": "execute_result",
          "data": {
            "text/plain": [
              "'2.9.2'"
            ],
            "application/vnd.google.colaboratory.intrinsic+json": {
              "type": "string"
            }
          },
          "metadata": {},
          "execution_count": 3
        }
      ],
      "source": [
        "tf.__version__"
      ]
    },
    {
      "cell_type": "code",
      "execution_count": null,
      "metadata": {
        "colab": {
          "base_uri": "https://localhost:8080/",
          "height": 35
        },
        "id": "_9iwwjM6CMPi",
        "outputId": "9ad09537-8826-4f5f-c574-695c11af4b21"
      },
      "outputs": [
        {
          "output_type": "execute_result",
          "data": {
            "text/plain": [
              "'2.9.0'"
            ],
            "application/vnd.google.colaboratory.intrinsic+json": {
              "type": "string"
            }
          },
          "metadata": {},
          "execution_count": 4
        }
      ],
      "source": [
        "tf.keras.__version__"
      ]
    },
    {
      "cell_type": "markdown",
      "metadata": {
        "id": "VPOxAZ1QCMPj"
      },
      "source": [
        "## Prepare the dataset\n",
        "\n",
        "In this block, you will prepare the data for the training, such as normalisation. "
      ]
    },
    {
      "cell_type": "code",
      "execution_count": null,
      "metadata": {
        "colab": {
          "base_uri": "https://localhost:8080/",
          "height": 322
        },
        "id": "hPdBRyHZCMPj",
        "outputId": "205ace4b-0616-4bb4-9402-2a18a81be99f"
      },
      "outputs": [
        {
          "output_type": "stream",
          "name": "stdout",
          "text": [
            "Downloading data from https://storage.googleapis.com/tensorflow/tf-keras-datasets/mnist.npz\n",
            "11490434/11490434 [==============================] - 0s 0us/step\n"
          ]
        },
        {
          "output_type": "display_data",
          "data": {
            "text/plain": [
              "<Figure size 432x288 with 9 Axes>"
            ],
            "image/png": "[encoded data removed]"
          },
          "metadata": {
            "needs_background": "light"
          }
        },
        {
          "output_type": "execute_result",
          "data": {
            "text/plain": [
              "(60000, 28, 28)"
            ]
          },
          "metadata": {},
          "execution_count": 5
        }
      ],
      "source": [
        "from keras.datasets import mnist\n",
        "(X_train_full, y_train_full), (X_test, y_test) = mnist.load_data()\n",
        "\n",
        "for i in range(0,9):\n",
        "    plt.subplot(330 + 1 + i)\n",
        "    plt.imshow(X_train_full[i])\n",
        "plt.show()\n",
        "\n",
        "X_train_full.shape"
      ]
    },
    {
      "cell_type": "code",
      "source": [
        "# reshape dataset to have a single channel\n",
        "X_train_full = X_train_full.reshape((X_train_full.shape[0], 28, 28, 1))\n",
        "X_test = X_test.reshape((X_test.shape[0], 28, 28, 1))\n",
        "\n",
        "# one-hot encoding\n",
        "y_train_full = keras.utils.to_categorical(y_train_full, num_classes=10)\n",
        "y_test = keras.utils.to_categorical(y_test, num_classes=10)\n",
        "\n",
        "# normalisation\n",
        "X_train_full = X_train_full/255.0\n",
        "X_test = X_test/255.0"
      ],
      "metadata": {
        "id": "FkkTXjYsLFHw"
      },
      "execution_count": null,
      "outputs": []
    },
    {
      "cell_type": "markdown",
      "metadata": {
        "id": "XbrHj_D0CMPj"
      },
      "source": [
        "## Build and train the model\n",
        "\n",
        "Build and train your model. "
      ]
    },
    {
      "cell_type": "code",
      "execution_count": null,
      "metadata": {
        "colab": {
          "base_uri": "https://localhost:8080/"
        },
        "id": "6HYcwWTqCMPj",
        "outputId": "e5fb2f9f-e7d6-4e3e-bffe-b480ace5a2e4"
      },
      "outputs": [
        {
          "output_type": "stream",
          "name": "stdout",
          "text": [
            "Model: \"sequential\"\n",
            "_________________________________________________________________\n",
            " Layer (type)                Output Shape              Param #   \n",
            "=================================================================\n",
            " conv2d (Conv2D)             (None, 28, 28, 24)        624       \n",
            "                                                                 \n",
            " max_pooling2d (MaxPooling2D  (None, 14, 14, 24)       0         \n",
            " )                                                               \n",
            "                                                                 \n",
            " conv2d_1 (Conv2D)           (None, 14, 14, 48)        28848     \n",
            "                                                                 \n",
            " max_pooling2d_1 (MaxPooling  (None, 7, 7, 48)         0         \n",
            " 2D)                                                             \n",
            "                                                                 \n",
            " conv2d_2 (Conv2D)           (None, 7, 7, 64)          76864     \n",
            "                                                                 \n",
            " max_pooling2d_2 (MaxPooling  (None, 3, 3, 64)         0         \n",
            " 2D)                                                             \n",
            "                                                                 \n",
            " flatten (Flatten)           (None, 576)               0         \n",
            "                                                                 \n",
            " dense (Dense)               (None, 256)               147712    \n",
            "                                                                 \n",
            " dropout (Dropout)           (None, 256)               0         \n",
            "                                                                 \n",
            " dense_1 (Dense)             (None, 10)                2570      \n",
            "                                                                 \n",
            "=================================================================\n",
            "Total params: 256,618\n",
            "Trainable params: 256,618\n",
            "Non-trainable params: 0\n",
            "_________________________________________________________________\n"
          ]
        }
      ],
      "source": [
        "# TODO: Build your model\n",
        "model = keras.models.Sequential([\n",
        "    keras.layers.Conv2D(filters=24, kernel_size=5, activation=\"relu\", kernel_initializer='he_uniform', padding=\"same\", input_shape=[28, 28, 1]),\n",
        "    keras.layers.MaxPooling2D(pool_size=2),\n",
        "    keras.layers.Conv2D(filters=48, kernel_size=5, activation=\"relu\", kernel_initializer='he_uniform', padding=\"same\"), \n",
        "    keras.layers.MaxPooling2D(pool_size=2),\n",
        "    keras.layers.Conv2D(filters=64, kernel_size=5, activation=\"relu\", kernel_initializer='he_uniform', padding=\"same\"), \n",
        "    keras.layers.MaxPooling2D(pool_size=2),\n",
        "    keras.layers.Flatten(), \n",
        "    keras.layers.Dense(256, activation=\"relu\", kernel_initializer='he_uniform'),\n",
        "    keras.layers.Dropout(0.5),\n",
        "    keras.layers.Dense(10, activation=\"softmax\")\n",
        "])\n",
        "# show the structure of your model\n",
        "model.summary()"
      ]
    },
    {
      "cell_type": "code",
      "execution_count": null,
      "metadata": {
        "colab": {
          "base_uri": "https://localhost:8080/"
        },
        "id": "YlEYR8wcCMPj",
        "outputId": "9eab145b-2586-4659-d1ac-713911a66eb5"
      },
      "outputs": [
        {
          "output_type": "stream",
          "name": "stdout",
          "text": [
            "Epoch 1/20\n",
            "750/750 [==============================] - 16s 9ms/step - loss: 0.2053 - accuracy: 0.9362 - val_loss: 0.0472 - val_accuracy: 0.9859\n",
            "Epoch 2/20\n",
            "750/750 [==============================] - 6s 9ms/step - loss: 0.0549 - accuracy: 0.9841 - val_loss: 0.0413 - val_accuracy: 0.9874\n",
            "Epoch 3/20\n",
            "750/750 [==============================] - 5s 6ms/step - loss: 0.0389 - accuracy: 0.9881 - val_loss: 0.0341 - val_accuracy: 0.9900\n",
            "Epoch 4/20\n",
            "750/750 [==============================] - 4s 5ms/step - loss: 0.0290 - accuracy: 0.9912 - val_loss: 0.0276 - val_accuracy: 0.9913\n",
            "Epoch 5/20\n",
            "750/750 [==============================] - 4s 5ms/step - loss: 0.0234 - accuracy: 0.9926 - val_loss: 0.0338 - val_accuracy: 0.9902\n",
            "Epoch 6/20\n",
            "750/750 [==============================] - 4s 5ms/step - loss: 0.0198 - accuracy: 0.9940 - val_loss: 0.0382 - val_accuracy: 0.9900\n",
            "Epoch 7/20\n",
            "750/750 [==============================] - 4s 5ms/step - loss: 0.0165 - accuracy: 0.9946 - val_loss: 0.0335 - val_accuracy: 0.9917\n",
            "Epoch 8/20\n",
            "750/750 [==============================] - 4s 5ms/step - loss: 0.0138 - accuracy: 0.9960 - val_loss: 0.0367 - val_accuracy: 0.9905\n",
            "Epoch 9/20\n",
            "750/750 [==============================] - 5s 7ms/step - loss: 0.0151 - accuracy: 0.9955 - val_loss: 0.0370 - val_accuracy: 0.9918\n",
            "Epoch 10/20\n",
            "750/750 [==============================] - 4s 5ms/step - loss: 0.0113 - accuracy: 0.9966 - val_loss: 0.0405 - val_accuracy: 0.9905\n",
            "Epoch 11/20\n",
            "750/750 [==============================] - 4s 5ms/step - loss: 0.0113 - accuracy: 0.9966 - val_loss: 0.0473 - val_accuracy: 0.9910\n",
            "Epoch 12/20\n",
            "750/750 [==============================] - 4s 5ms/step - loss: 0.0092 - accuracy: 0.9971 - val_loss: 0.0472 - val_accuracy: 0.9906\n",
            "Epoch 13/20\n",
            "750/750 [==============================] - 4s 5ms/step - loss: 0.0115 - accuracy: 0.9964 - val_loss: 0.0451 - val_accuracy: 0.9913\n",
            "Epoch 14/20\n",
            "750/750 [==============================] - 4s 5ms/step - loss: 0.0070 - accuracy: 0.9978 - val_loss: 0.0577 - val_accuracy: 0.9896\n",
            "Epoch 15/20\n",
            "750/750 [==============================] - 4s 5ms/step - loss: 0.0102 - accuracy: 0.9970 - val_loss: 0.0352 - val_accuracy: 0.9924\n",
            "Epoch 16/20\n",
            "750/750 [==============================] - 4s 5ms/step - loss: 0.0068 - accuracy: 0.9979 - val_loss: 0.0465 - val_accuracy: 0.9922\n",
            "Epoch 17/20\n",
            "750/750 [==============================] - 4s 5ms/step - loss: 0.0080 - accuracy: 0.9975 - val_loss: 0.0506 - val_accuracy: 0.9912\n",
            "Epoch 18/20\n",
            "750/750 [==============================] - 4s 5ms/step - loss: 0.0094 - accuracy: 0.9973 - val_loss: 0.0477 - val_accuracy: 0.9908\n",
            "Epoch 19/20\n",
            "750/750 [==============================] - 4s 5ms/step - loss: 0.0048 - accuracy: 0.9986 - val_loss: 0.0548 - val_accuracy: 0.9926\n",
            "Epoch 20/20\n",
            "750/750 [==============================] - 4s 5ms/step - loss: 0.0054 - accuracy: 0.9984 - val_loss: 0.0718 - val_accuracy: 0.9890\n"
          ]
        }
      ],
      "source": [
        "# Train model\n",
        "X_train, X_valid, y_train, y_valid = train_test_split(X_train_full, y_train_full, test_size = 0.2)\n",
        "\n",
        "model.compile(loss=\"categorical_crossentropy\",\n",
        "              optimizer=keras.optimizers.Adam(),\n",
        "              metrics=[\"accuracy\"])\n",
        "history = model.fit(X_train, y_train, batch_size=64, epochs=20, \n",
        "                    validation_data=(X_valid, y_valid))"
      ]
    },
    {
      "cell_type": "code",
      "execution_count": null,
      "metadata": {
        "colab": {
          "base_uri": "https://localhost:8080/",
          "height": 487
        },
        "id": "qEf2iw1LCMPj",
        "outputId": "cbad0527-2941-473c-ad92-9dc503c44aec"
      },
      "outputs": [
        {
          "output_type": "display_data",
          "data": {
            "text/plain": [
              "<Figure size 864x576 with 1 Axes>"
            ],
            "image/png": "[encoded data removed]"
          },
          "metadata": {
            "needs_background": "light"
          }
        }
      ],
      "source": [
        "# Assume you have stored the training history in the variable \"history\"\n",
        "# Show the learning curves\n",
        "pd.DataFrame(history.history).plot(figsize=(12, 8))\n",
        "plt.gca().set_ylim(0, 1)\n",
        "plt.grid(True)\n",
        "plt.show()"
      ]
    },
    {
      "cell_type": "markdown",
      "metadata": {
        "id": "cb8ygm93CMPk"
      },
      "source": [
        "## Save the model\n",
        "\n",
        "Save and upload your trained model to the seafile link we provided to you. You can upload it multiple times. We will consider only the newest uploaded model. "
      ]
    },
    {
      "cell_type": "code",
      "execution_count": null,
      "metadata": {
        "id": "Ekda7N33CMPk"
      },
      "outputs": [],
      "source": [
        "model.save('FDS22-M058-MNIST.h5') # change the file name according to your repository name"
      ]
    },
    {
      "cell_type": "markdown",
      "metadata": {
        "id": "4k0ak2bICMPk"
      },
      "source": [
        "## Load the model and evaluate it on the test data"
      ]
    },
    {
      "cell_type": "code",
      "execution_count": null,
      "metadata": {
        "colab": {
          "base_uri": "https://localhost:8080/"
        },
        "id": "8lgsQvxFCMPk",
        "outputId": "726fda57-9762-4032-dbfd-713e215a7922"
      },
      "outputs": [
        {
          "output_type": "stream",
          "name": "stdout",
          "text": [
            "313/313 [==============================] - 7s 21ms/step - loss: 0.0473 - accuracy: 0.9920\n"
          ]
        },
        {
          "output_type": "execute_result",
          "data": {
            "text/plain": [
              "[0.047348082065582275, 0.9919999837875366]"
            ]
          },
          "metadata": {},
          "execution_count": 7
        }
      ],
      "source": [
        "model = keras.models.load_model(\"FDS22-M058-MNIST.h5\")\n",
        "model.evaluate(X_test, y_test)"
      ]
    },
    {
      "cell_type": "markdown",
      "metadata": {
        "id": "y-Qdax6pCMPl"
      },
      "source": [
        "## Short report\n",
        "\n",
        "Please write a few sentences explaining how you build and train the model. Please include the decisions you made, such as why you use x number layers and the difficulties you met. "
      ]
    },
    {
      "cell_type": "markdown",
      "metadata": {
        "id": "ToO9gVf3CMPl"
      },
      "source": [
        "**To be honest, it is not a very challenging task to achieve 97% accuracy in this dataset. Thus, I decide to first try a relatively simple and shallow architecture with three layers with a broad fully connected layer. I do feel a little lucky, because it turns out working pretty good in my first attempt.**"
      ]
    }
  ],
  "metadata": {
    "kernelspec": {
      "display_name": "Python 3",
      "language": "python",
      "name": "python3"
    },
    "language_info": {
      "codemirror_mode": {
        "name": "ipython",
        "version": 3
      },
      "file_extension": ".py",
      "mimetype": "text/x-python",
      "name": "python",
      "nbconvert_exporter": "python",
      "pygments_lexer": "ipython3",
      "version": "3.8.3"
    },
    "colab": {
      "provenance": [],
      "include_colab_link": true
    },
    "gpuClass": "standard"
  },
  "nbformat": 4,
  "nbformat_minor": 0
}